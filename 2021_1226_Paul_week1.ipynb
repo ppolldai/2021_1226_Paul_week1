{
  "nbformat": 4,
  "nbformat_minor": 0,
  "metadata": {
    "colab": {
      "name": "2021-1226-Paul_week1.ipynb",
      "provenance": [],
      "collapsed_sections": [],
      "authorship_tag": "ABX9TyN9yRu6rckLsuMA+X6t0+bc",
      "include_colab_link": true
    },
    "kernelspec": {
      "name": "python3",
      "display_name": "Python 3"
    },
    "language_info": {
      "name": "python"
    }
  },
  "cells": [
    {
      "cell_type": "markdown",
      "metadata": {
        "id": "view-in-github",
        "colab_type": "text"
      },
      "source": [
        "<a href=\"https://colab.research.google.com/github/ppolldai/2021_1226_Paul_week1/blob/main/2021_1226_Paul_week1.ipynb\" target=\"_parent\"><img src=\"https://colab.research.google.com/assets/colab-badge.svg\" alt=\"Open In Colab\"/></a>"
      ]
    },
    {
      "cell_type": "code",
      "execution_count": null,
      "metadata": {
        "id": "aGXFdiYrYSXt"
      },
      "outputs": [],
      "source": [
        "import pandas as pd\n",
        "import gzip, json\n",
        "\n",
        "def parse(path):\n",
        "    g = gzip.open(path, 'rb')\n",
        "    for l in g:\n",
        "        yield json.loads(l)\n",
        "\n",
        "def getDF(path):\n",
        "    i = 0\n",
        "    df = {}\n",
        "    for d in parse(path):\n",
        "        df[i] = d\n",
        "        i += 1\n",
        "    return pd.DataFrame.from_dict(df, orient='index')\n",
        "\n",
        "!wget http://deepyeti.ucsd.edu/jianmo/amazon/categoryFilesSmall/All_Beauty.csv\n",
        "!wget http://deepyeti.ucsd.edu/jianmo/amazon/metaFiles2/meta_All_Beauty.json.gz\n",
        "metadata = getDF('/content/meta_All_Beauty.json.gz')\n",
        "ratings = pd.read_csv('/content/All_Beauty.csv', names=['asin', 'reviewerID', 'overall', 'unixReviewTime'], header=None)\n",
        "metadata.head()\n",
        "\n",
        "ratings.head()\n",
        "ratings['DATE'] = pd.to_datetime(ratings['unixReviewTime'], unit='s')\n",
        "\n",
        "ratings_trainings = ratings[\n",
        "    (ratings['DATE'] < '2018-09-01')\n",
        "]\n",
        "ratings_testings = ratings[\n",
        "    (ratings['DATE'] >= '2018-09-01') & \n",
        "    (ratings['DATE'] <= '2018-09-30')\n",
        "]\n",
        "ratings_testings_by_user = ratings_testings.groupby('reviewerID').agg(list).reset_index()[['reviewerID', 'asin']].to_dict('records')\n",
        "ratings_testings_by_user = { rating['reviewerID']: rating['asin'] for rating in ratings_testings_by_user }\n",
        "users = list(ratings_testings_by_user.keys())\n",
        "\n"
      ]
    },
    {
      "cell_type": "code",
      "source": [
        "\n",
        "#找出得到評價5分最多的商品\n",
        "\n",
        "sort_train=ratings_trainings.sort_values(by=['reviewerID', 'overall'])\n",
        "filter5 = (sort_train[\"overall\"] == 5)\n",
        "filter_5 =sort_train[filter5]\n",
        "\n",
        "freq5=filter_5['asin'].value_counts() \n",
        "\n",
        "#取前10個當作推薦基礎標的\n",
        "head10=freq5.head(10)\n",
        "\n",
        "#首先針對先前有評論過5分商品的消費者推播該商品，若沒評論過則以TOP10的五分商品作為推薦\n",
        "\n",
        "ratings_by_user={}\n",
        "\n",
        "for test_user in users:\n",
        "\n",
        "  countk=0\n",
        "  recommend=[]\n",
        "\n",
        "#step1 \n",
        "  mask1 = filter_5[\"reviewerID\"] == test_user\n",
        "  comment = filter_5[(mask1)]\n",
        "\n",
        "\n",
        "  if not comment.empty:\n",
        "    recommend.append(comment.iloc[0]['asin'])\n",
        "    countk=countk+1\n",
        "\n",
        "#step2  \n",
        "  if countk<10:\n",
        "    for hot in head10.items():\n",
        "      recommend.append(hot[0])\n",
        "      countk=countk+1\n",
        "      if countk==10:\n",
        "        break\n",
        "\n",
        "  ratings_by_user[test_user]=recommend    \n"
      ],
      "metadata": {
        "id": "phpImb3jkqzl"
      },
      "execution_count": 225,
      "outputs": []
    },
    {
      "cell_type": "code",
      "source": [
        "def evaluate(ratings_testings_by_user={}, ratings_by_user={}, method=None):\n",
        "\n",
        "    total = 0\n",
        "    for d in ratings_testings_by_user:\n",
        "        if d in ratings_by_user:\n",
        "            total += len(set(ratings_by_user[d]) & set(ratings_testings_by_user[d]))\n",
        "\n",
        "    score = total / len(ratings_testings)\n",
        "    return score\n",
        "\n",
        "evaluate(ratings_testings_by_user, ratings_by_user)"
      ],
      "metadata": {
        "colab": {
          "base_uri": "https://localhost:8080/"
        },
        "id": "sgIJdy3Rv4Ip",
        "outputId": "9c25ac53-a333-41a9-fc57-f64ff0a86e47"
      },
      "execution_count": 226,
      "outputs": [
        {
          "output_type": "execute_result",
          "data": {
            "text/plain": [
              "0.08305084745762711"
            ]
          },
          "metadata": {},
          "execution_count": 226
        }
      ]
    }
  ]
}